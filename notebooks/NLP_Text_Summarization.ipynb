{
 "cells": [
  {
   "cell_type": "code",
   "execution_count": 1,
   "metadata": {
    "collapsed": true
   },
   "outputs": [],
   "source": [
    "from nltk import FreqDist\n",
    "from nltk.tokenize import word_tokenize, sent_tokenize\n",
    "from nltk.stem.wordnet import WordNetLemmatizer\n",
    "lemma = WordNetLemmatizer()\n",
    "from nltk.corpus import stopwords\n",
    "stop = stopwords.words('english')\n",
    "\n",
    "from bs4 import BeautifulSoup\n",
    "from urllib.request import urlopen\n",
    "\n",
    "from gensim.models import Phrases\n",
    "from gensim.models.phrases import Phraser\n",
    "\n",
    "import os\n",
    "from collections import Counter\n",
    "import string\n",
    "punctuations = list(string.punctuation)\n",
    "#Add some more punctuation, as the list doesn't cover all cases.\n",
    "punctuations.extend(['”', '–', '``', \"''\"])\n",
    "stop = stop + punctuations"
   ]
  },
  {
   "cell_type": "code",
   "execution_count": 24,
   "metadata": {},
   "outputs": [
    {
     "name": "stdout",
     "output_type": "stream",
     "text": [
      "New Device Can Generate Electricity Anywhere Using Natural Temperature Changes \n",
      " ____________________________________________________________ \n",
      " Shutterstock / Ase\n",
      "\n",
      "Renewables are on the rise, coal is bleeding out, and natural gas is frustratingly cheap. While the energy sector fights it out for the future of the planet, researchers around the world are sneakily coming up with proof-of-concept technologies that may provide our gizmos with new sources of power further down the line.\n",
      "\n",
      "Enter left stage, MIT’s thermal resonator. This rather magical-sounding device doesn’t need anything other than the ambient environment to generate electricity, which it does so by “harvesting” lingering thermal energy. This isn’t witchcraft, dear readers: this is the bleeding edge of engineering, and although we wouldn’t expect to own one anytime soon, it’s hard to argue that this isn’t extremely clever stuff.\n",
      "\n",
      "Have you heard of the thermoelectric effect? It’s a neat quirk of physics that allows for the generation of a voltage when a specialized device known as a thermocouple is registering at different temperatures on either side of it. At the same time, if you add a voltage to the thermocouple, it’ll result in a temperature difference across the device.\n",
      "\n",
      " \n",
      "\n",
      "Thermoelectric devices that utilize this effect aren’t new. They’re used in diesel engines, and occasionally in watches – wasted thermal energy escaping from the system is recaptured and transformed into electricity, making systems more energy efficient.\n",
      "\n",
      "The problem with said devices is that a temperature difference has to be maintained across the device at all times. In the absence of anything causing this – sunlight fluctuations, say – no electricity can be generated, and this, according to an MIT-authored Nature Communications paper, is where their new device comes in.\n",
      "\n",
      "\n",
      "\n",
      "They’ve concocted the world's first thermal resonator, a device that they note can generate electricity based on small temperature fluctuations in the surrounding environment. As these happen everywhere, from the darkest shadows to the tops of mountains, this makes their device incredibly versatile.\n",
      "\n",
      "Sign up today to get weekly science coverage direct to your inbox\n",
      "\n",
      "This website uses cookies\n",
      "\n",
      "This website uses cookies to improve user experience. By continuing to use our website you consent to all cookies in accordance with our cookie policy.\n"
     ]
    }
   ],
   "source": [
    "url = urlopen('http://www.iflscience.com/technology/new-device-generate-electricity-anywhere-natural-temperature-changes/')\n",
    "soup = BeautifulSoup(url.read().decode('utf8'), \"lxml\")\n",
    "text = '\\n\\n'.join(map(lambda p: p.text, soup.find_all('p')))\n",
    "\n",
    "#text = text[text.find('enumerated'):]\n",
    "title = soup.find('h1').text.strip()\n",
    "print(title, '\\n', '_' * 60, '\\n', text)"
   ]
  },
  {
   "cell_type": "code",
   "execution_count": 25,
   "metadata": {
    "collapsed": true
   },
   "outputs": [],
   "source": [
    "def intersection(sent1, sent2):\n",
    "    s1 = [i for i in word_tokenize(sent1) if i not in punctuations and i not in stop]\n",
    "    s2 = [i for i in word_tokenize(sent2) if i not in punctuations and i not in stop]\n",
    "    intersection = [i for i in s1 if i in s2]\n",
    "    return len(intersection) / ((len(s1) + len(s2)) / 2)\n",
    "\n",
    "def get_summary(text, limit=3):\n",
    "    sentences = sent_tokenize(text)\n",
    "    matrix = [[intersection(sentences[i], sentences[j]) for i in range(0,len(sentences))] for j in range(0,len(sentences))]\n",
    "    scores = {sentences[i]: sum(matrix[i]) for i in range(len(matrix))}\n",
    "    sents = sorted(scores, key=scores.__getitem__, reverse=True)[:limit]\n",
    "    best_sents = [i[0] for i in sorted([(i, text.find(i)) for i in sents], key=lambda x: x[0])]\n",
    "    return best_sents\n",
    "\n",
    "def summarize(text, limit=3):\n",
    "    summary = get_summary(text, limit)\n",
    "    print(title)\n",
    "    print()\n",
    "    print(' '.join(summary))"
   ]
  },
  {
   "cell_type": "code",
   "execution_count": 27,
   "metadata": {},
   "outputs": [
    {
     "name": "stdout",
     "output_type": "stream",
     "text": [
      "New Device Can Generate Electricity Anywhere Using Natural Temperature Changes\n",
      "\n",
      "They’ve concocted the world's first thermal resonator, a device that they note can generate electricity based on small temperature fluctuations in the surrounding environment. This rather magical-sounding device doesn’t need anything other than the ambient environment to generate electricity, which it does so by “harvesting” lingering thermal energy.\n"
     ]
    }
   ],
   "source": [
    "summarize(text,2)"
   ]
  },
  {
   "cell_type": "code",
   "execution_count": null,
   "metadata": {
    "collapsed": true
   },
   "outputs": [],
   "source": []
  },
  {
   "cell_type": "code",
   "execution_count": 7,
   "metadata": {
    "collapsed": true
   },
   "outputs": [],
   "source": [
    "def intersection(sent1, sent2):\n",
    "    #As sentences are lists of tokens, there is no need to split them.\n",
    "    intersection = [i for i in sent1 if i in sent2]\n",
    "    return len(intersection) / ((len(sent1) + len(sent2)) / 2)\n",
    "\n",
    "def split_sentences(sents):\n",
    "    sentence_stream = [[i for i in word_tokenize(sent) if i not in stop] for sent in sents]\n",
    "    bigram = Phrases(sentence_stream, min_count=2, threshold=2, delimiter=b'_')\n",
    "    bigram_phraser = Phraser(bigram)\n",
    "    bigram_tokens = bigram_phraser[sentence_stream]\n",
    "    trigram = Phrases(bigram_tokens,min_count=2, threshold=2, delimiter=b'_')\n",
    "    trigram_phraser = Phraser(trigram)\n",
    "    trigram_tokens = trigram_phraser[bigram_tokens]\n",
    "    return [i for i in trigram_tokens]\n",
    "\n",
    "def get_summary(text, limit=3):\n",
    "    sents = sent_tokenize(text)\n",
    "    sentences = split_sentences(sents)\n",
    "    matrix = [[intersection(sentences[i], sentences[j]) for i in range(0,len(sentences))] for j in range(0,len(sentences))]\n",
    "    scores = {sents[i]: sum(matrix[i]) for i in range(len(matrix))}\n",
    "    sents = sorted(scores, key=scores.__getitem__, reverse=True)[:limit]\n",
    "    best_sents = [i[0] for i in sorted([(i, text.find(i)) for i in sents], key=lambda x: x[0])]\n",
    "    return best_sents"
   ]
  },
  {
   "cell_type": "code",
   "execution_count": 9,
   "metadata": {},
   "outputs": [
    {
     "name": "stdout",
     "output_type": "stream",
     "text": [
      "Snap election to be held in March after Northern Ireland government collapses\n",
      "\n",
      "\"The botched renewable energy scheme is being blamed for the collapse of the devolved government but it was just the tip of the iceberg.\" An early election will be held in Northern Ireland on 2 March after the collapse of its government, it has been announced. Announcing the dissolution of the Northern Ireland Assembly, Mr Brokenshire urged both parties \"to conduct this election with a view to...re-establishing a partnership government at the earliest opportunity after that poll.\" He added that the collapse of the power-sharing government was the \"greatest challenge to face the Northern Ireland peace process in a decade\". The break-up of the power-sharing government comes amid a dispute between Sinn Fein and the DUP over a botched renewable energy scheme that could have cost the taxpayer £500m.\n"
     ]
    }
   ],
   "source": [
    "summarize(text, 5)"
   ]
  },
  {
   "cell_type": "markdown",
   "metadata": {},
   "source": [
    "### Word Frequency"
   ]
  },
  {
   "cell_type": "code",
   "execution_count": 28,
   "metadata": {
    "collapsed": true
   },
   "outputs": [],
   "source": [
    "def score_sentences(words, sentences):\n",
    "    #Return scores for sentences.\n",
    "    scores = Counter()\n",
    "    #Words - list of words and their scores, first element is the word, second - its score.\n",
    "    for word in words:\n",
    "        for i in range(0, len(sentences)):\n",
    "            #If word is also in title, then add double score to the sentence.\n",
    "            if word[0] in sentences[i] and word[0] in title:\n",
    "                scores[i] += 2 * word[1]\n",
    "            elif word[0] in sentences[i]:\n",
    "                scores[i] += word[1]\n",
    "    sentence_scores = sorted(scores.items(), key=scores.__getitem__, reverse=True)\n",
    "    return sentence_scores\n",
    "\n",
    "def split_sentences(sents):\n",
    "\n",
    "    sentence_stream = [[i for i in word_tokenize(sent) if i not in stop] for sent in sents]\n",
    "    bigram = Phrases(sentence_stream, min_count=2, threshold=2, delimiter=b'_')\n",
    "    bigram_phraser = Phraser(bigram)\n",
    "    bigram_tokens = bigram_phraser[sentence_stream]\n",
    "    trigram = Phrases(bigram_tokens,min_count=2, threshold=2, delimiter=b'_')\n",
    "    trigram_phraser = Phraser(trigram)\n",
    "    trigram_tokens = trigram_phraser[bigram_tokens]\n",
    "    \n",
    "    all_words = [i for j in trigram_tokens for i in j]\n",
    "    frequent_words = [i for i in Counter(all_words).most_common() if i[1] > 1]\n",
    "    sentences = [i for i in trigram_tokens]\n",
    "    \n",
    "    return frequent_words, sentences\n",
    "\n",
    "def get_summary(text, limit=3):\n",
    "    sents = sent_tokenize(text)\n",
    "    frequent_words, sentences = split_sentences(sents)\n",
    "    sentence_scores = score_sentences(frequent_words, sentences)\n",
    "    \n",
    "    limited_sents = [sents[num] for num, count in sentence_scores[:limit]]\n",
    "    best_sents = [i[0] for i in sorted([(i, text.find(i)) for i in limited_sents], key=lambda x: x[0])]\n",
    "    return best_sents\n",
    "\n",
    "def summarize(text, limit=3):\n",
    "    summary = get_summary(text, limit)\n",
    "    print(title)\n",
    "    print()\n",
    "    print(' '.join(summary))"
   ]
  },
  {
   "cell_type": "code",
   "execution_count": 29,
   "metadata": {},
   "outputs": [
    {
     "name": "stdout",
     "output_type": "stream",
     "text": [
      "New Device Can Generate Electricity Anywhere Using Natural Temperature Changes\n",
      "\n",
      "Enter left stage, MIT’s thermal resonator. This rather magical-sounding device doesn’t need anything other than the ambient environment to generate electricity, which it does so by “harvesting” lingering thermal energy.\n"
     ]
    }
   ],
   "source": [
    "summarize(text, 2)"
   ]
  },
  {
   "cell_type": "code",
   "execution_count": null,
   "metadata": {
    "collapsed": true
   },
   "outputs": [],
   "source": []
  }
 ],
 "metadata": {
  "kernelspec": {
   "display_name": "Python 2",
   "language": "python",
   "name": "python2"
  },
  "language_info": {
   "codemirror_mode": {
    "name": "ipython",
    "version": 2
   },
   "file_extension": ".py",
   "mimetype": "text/x-python",
   "name": "python",
   "nbconvert_exporter": "python",
   "pygments_lexer": "ipython2",
   "version": "2.7.14"
  },
  "toc": {
   "base_numbering": 1,
   "nav_menu": {},
   "number_sections": true,
   "sideBar": true,
   "skip_h1_title": false,
   "title_cell": "Table of Contents",
   "title_sidebar": "Contents",
   "toc_cell": false,
   "toc_position": {},
   "toc_section_display": true,
   "toc_window_display": false
  }
 },
 "nbformat": 4,
 "nbformat_minor": 2
}
